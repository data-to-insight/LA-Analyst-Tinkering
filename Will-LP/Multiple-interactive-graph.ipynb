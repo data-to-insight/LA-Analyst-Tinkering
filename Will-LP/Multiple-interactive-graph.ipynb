{
 "cells": [
  {
   "cell_type": "code",
   "execution_count": 1,
   "metadata": {},
   "outputs": [
    {
     "data": {
      "application/vnd.jupyter.widget-view+json": {
       "model_id": "3d8c104610084495a541225a27507363",
       "version_major": 2,
       "version_minor": 0
      },
      "text/plain": [
       "interactive(children=(IntRangeSlider(value=(2004, 2022), continuous_update=False, description='Year Range:', l…"
      ]
     },
     "metadata": {},
     "output_type": "display_data"
    },
    {
     "data": {
      "text/plain": [
       "<function __main__.sample_graph(years, line_on)>"
      ]
     },
     "execution_count": 1,
     "metadata": {},
     "output_type": "execute_result"
    }
   ],
   "source": [
    "%matplotlib inline\n",
    "import pandas as pd\n",
    "import plotly.express as px\n",
    "\n",
    "import plotly.graph_objects as go\n",
    "from ipywidgets import widgets\n",
    "from ipywidgets import interact, interact_manual, Layout\n",
    "from IPython.display import display\n",
    "from IPython.display import display, clear_output\n",
    "\n",
    "import seaborn as sns\n",
    "import matplotlib.pyplot as plt\n",
    "import numpy as np\n",
    "import scipy.stats as sp\n",
    "import matplotlib.dates as mdates\n",
    "\n",
    "\n",
    "from jupyter_dash import JupyterDash\n",
    "from dash import Dash, html, dcc\n",
    "# Getting data in from CSVs to dataframes\n",
    "ChildIdentifiers = pd.read_csv('/workspaces/LA-Analyst-Tinkering/FAKE-CIN-DATA/FakeChildIdentifiers.csv')\n",
    "CINdetails = pd.read_csv('/workspaces/LA-Analyst-Tinkering/FAKE-CIN-DATA/FakeCINdetails.csv')\n",
    "ChildCharacteristics = pd.read_csv('/workspaces/LA-Analyst-Tinkering/FAKE-CIN-DATA/FakeChildCharacteristics.csv')\n",
    "\n",
    "def sample_graph(years, line_on):\n",
    "    ChildIdentifiers = pd.read_csv('/workspaces/LA-Analyst-Tinkering/FAKE-CIN-DATA/FakeChildIdentifiers.csv')\n",
    "    CINdetails = pd.read_csv('/workspaces/LA-Analyst-Tinkering/FAKE-CIN-DATA/FakeCINdetails.csv')\n",
    "\n",
    "    merged_df = CINdetails.merge(ChildIdentifiers, left_on='LAchildID', right_on='LAchildID', how='left')\n",
    "\n",
    "\n",
    "    df = merged_df[['LAchildID', 'PersonBirthDate', 'CINreferralDate', 'CINclosureDate']]\n",
    "\n",
    "    df_dates = df.loc[:,['PersonBirthDate', 'CINreferralDate', 'CINclosureDate']].apply(\n",
    "        pd.to_datetime, format='%Y/%m/%d', errors='coerce'\n",
    "    )\n",
    "\n",
    "    df_dates = df_dates[df_dates['CINclosureDate'].notna()]\n",
    "\n",
    "    df_dates['CINrefToClose'] = (df_dates['CINclosureDate'] - df_dates['CINreferralDate'])\n",
    "    df_dates['CINrefToClose'] = df_dates['CINrefToClose'].astype('timedelta64[h]')\n",
    "    df_dates['CINrefToClose'] = df_dates['CINrefToClose'].astype(float) / 24\n",
    "    df_dates = df_dates[(df_dates['PersonBirthDate'].dt.year >= years[0]) & (df_dates['PersonBirthDate'].dt.year <= years[1])]\n",
    "\n",
    "    y = df_dates['CINrefToClose']\n",
    "    x = mdates.date2num(df_dates['PersonBirthDate'])\n",
    "\n",
    "    sns.set_style('darkgrid')\n",
    "    graph = plt.plot(df_dates['PersonBirthDate'], y, 'o')\n",
    "    \n",
    "    slope, intercept, r_value, p_value, std_err =sp.linregress(x,y)\n",
    "    xf = np.linspace(min(x),max(x),100)\n",
    "    xf1 = xf.copy()\n",
    "    yf = (slope*xf)+intercept\n",
    "\n",
    "     \n",
    "    if line_on == 'Regression on':\n",
    "        plt.plot(xf1, yf, lw=3, label=f'Linear regression (r={r_value})')\n",
    "\n",
    "    \n",
    "\n",
    "    plt.tight_layout()\n",
    "    plt.title('Birth date versus CIN referral to closure date')\n",
    "    plt.xlabel('Birth date')\n",
    "    plt.ylabel('TIme between CIN referral and CIN closure (years)')\n",
    "    plt.legend()\n",
    "    return graph\n",
    "\n",
    "year_select = widgets.IntRangeSlider(\n",
    "    value = [2004, 2022],\n",
    "    min = 2004,\n",
    "    max = 2022,\n",
    "    step = 1,\n",
    "    description = 'Year Range:',\n",
    "    disabled=False,\n",
    "    continuous_update=False,\n",
    "    orientation='horizontal',\n",
    "    readout = True,\n",
    "    readout_format = 'd',\n",
    "    layout={'width': '500px'}\n",
    "    )\n",
    "\n",
    "line_select = widgets.RadioButtons(\n",
    "    options=['Regression on', 'Regression off',],\n",
    "#     value='pineapple',\n",
    "    description='Regression line',\n",
    "    disabled=False\n",
    ")\n",
    "\n",
    "\n",
    "interact(sample_graph, years=year_select, line_on=line_select)\n",
    "\n"
   ]
  }
 ],
 "metadata": {
  "kernelspec": {
   "display_name": "Python 3",
   "language": "python",
   "name": "python3"
  },
  "language_info": {
   "codemirror_mode": {
    "name": "ipython",
    "version": 3
   },
   "file_extension": ".py",
   "mimetype": "text/x-python",
   "name": "python",
   "nbconvert_exporter": "python",
   "pygments_lexer": "ipython3",
   "version": "3.10.4"
  },
  "orig_nbformat": 4,
  "vscode": {
   "interpreter": {
    "hash": "3ad933181bd8a04b432d3370b9dc3b0662ad032c4dfaa4e4f1596c548f763858"
   }
  }
 },
 "nbformat": 4,
 "nbformat_minor": 2
}
