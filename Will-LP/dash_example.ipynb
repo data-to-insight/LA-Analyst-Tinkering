{
 "cells": [
  {
   "cell_type": "code",
   "execution_count": 1,
   "metadata": {},
   "outputs": [
    {
     "name": "stdout",
     "output_type": "stream",
     "text": [
      "Dash app running on http://127.0.0.1:8050/\n"
     ]
    }
   ],
   "source": [
    "import pandas as pd\n",
    "import plotly.express as px\n",
    "\n",
    "import plotly.graph_objects as go\n",
    "from ipywidgets import widgets\n",
    "from ipywidgets import interact, interact_manual, Layout\n",
    "from IPython.display import display\n",
    "from IPython.display import display, clear_output\n",
    "\n",
    "import seaborn as sns\n",
    "import matplotlib.pyplot as plt\n",
    "import numpy as np\n",
    "import scipy.stats as sp\n",
    "import matplotlib.dates as mdates\n",
    "\n",
    "\n",
    "from jupyter_dash import JupyterDash\n",
    "from dash import Dash, html, dcc\n",
    "\n",
    "'''This is an example of what can be done with Jupyter Dash, as of now, we can't get this to work with tool 2, but it's good to know. \n",
    "If you make and share htese you can build them out into full dashboards, so look into it if youre interested.'''\n",
    "\n",
    "ChildIdentifiers = pd.read_csv('/workspaces/LA-Analyst-Tinkering/FAKE-CIN-DATA/FakeChildIdentifiers.csv')\n",
    "CINdetails = pd.read_csv('/workspaces/LA-Analyst-Tinkering/FAKE-CIN-DATA/FakeCINdetails.csv')\n",
    "ChildCharacteristics = pd.read_csv('/workspaces/LA-Analyst-Tinkering/FAKE-CIN-DATA/FakeChildCharacteristics.csv')\n",
    "\n",
    "app = JupyterDash(__name__)\n",
    "\n",
    "ethnicities = ChildCharacteristics['Ethnicity'].value_counts()\n",
    "\n",
    "fig_eth = px.bar(ethnicities, x=ethnicities.index, y=ethnicities.values, barmode='group')\n",
    "\n",
    "app.layout = html.Div(children=[\n",
    "    html.H1(children='Ethnicities breakdown - dash example'),\n",
    "\n",
    "    html.Div(children='''\n",
    "        Unless you host this, you can't share hte interactive dashboard, but you can share the files you save from it.\n",
    "    '''),\n",
    "\n",
    "    dcc.Graph(\n",
    "        id='example-graph',\n",
    "        figure=fig_eth\n",
    "    )\n",
    "])\n",
    "\n",
    "if __name__ == '__main__':\n",
    "    app.run_server(debug=True)"
   ]
  }
 ],
 "metadata": {
  "kernelspec": {
   "display_name": "Python 3",
   "language": "python",
   "name": "python3"
  },
  "language_info": {
   "codemirror_mode": {
    "name": "ipython",
    "version": 3
   },
   "file_extension": ".py",
   "mimetype": "text/x-python",
   "name": "python",
   "nbconvert_exporter": "python",
   "pygments_lexer": "ipython3",
   "version": "3.10.4"
  },
  "orig_nbformat": 4,
  "vscode": {
   "interpreter": {
    "hash": "3ad933181bd8a04b432d3370b9dc3b0662ad032c4dfaa4e4f1596c548f763858"
   }
  }
 },
 "nbformat": 4,
 "nbformat_minor": 2
}
